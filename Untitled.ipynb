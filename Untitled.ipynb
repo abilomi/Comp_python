{
 "cells": [
  {
   "cell_type": "code",
   "execution_count": 2,
   "metadata": {},
   "outputs": [
    {
     "name": "stdout",
     "output_type": "stream",
     "text": [
      "Hello World\n"
     ]
    }
   ],
   "source": [
    "print(\"Hello World\")"
   ]
  },
  {
   "cell_type": "code",
   "execution_count": 3,
   "metadata": {},
   "outputs": [
    {
     "name": "stdout",
     "output_type": "stream",
     "text": [
      "this is a random number:7\n"
     ]
    }
   ],
   "source": [
    "import random\n",
    "random.seed()\n",
    "x = random.randint(0,10)\n",
    "print(f\"this is a random number:{x}\")\n"
   ]
  },
  {
   "cell_type": "code",
   "execution_count": 4,
   "metadata": {
    "collapsed": true
   },
   "outputs": [],
   "source": [
    "my_family = {\"mom\":\"Lomi\", \"Sister\":\"Bill\",\"Father\":\"Mekonnen\"}#in dictionary there is no it loops through it "
   ]
  },
  {
   "cell_type": "code",
   "execution_count": null,
   "metadata": {},
   "outputs": [],
   "source": []
  },
  {
   "cell_type": "code",
   "execution_count": 5,
   "metadata": {},
   "outputs": [
    {
     "name": "stdout",
     "output_type": "stream",
     "text": [
      "()\n"
     ]
    }
   ],
   "source": [
    "empty_tuple = () \n",
    "print (empty_tuple) "
   ]
  },
  {
   "cell_type": "code",
   "execution_count": 6,
   "metadata": {},
   "outputs": [
    {
     "name": "stdout",
     "output_type": "stream",
     "text": [
      "('python', 'geeks')\n"
     ]
    }
   ],
   "source": [
    "tup = ('python', 'geeks') \n",
    "print(tup) "
   ]
  },
  {
   "cell_type": "code",
   "execution_count": 7,
   "metadata": {},
   "outputs": [],
   "source": [
    "travel_items = [\"cloths\",\"shoes\", \"shampoo\"]\n",
    "def total_weight(travelitems):\n",
    "    total = 0\n",
    "    for item in item_list:\n",
    "        total += item[\"weight\"]\n",
    "    return total\n",
    "#THE convention in object oriented programmin as well as functional programmings is that constants(variables that never change)\n",
    "#are written in uppercase. Another convention unique to oop is proper case (first letter only is Capitalized)"
   ]
  },
  {
   "cell_type": "code",
   "execution_count": 8,
   "metadata": {},
   "outputs": [],
   "source": [
    "class Bag:  # we define out class(blue print) with two properties \n",
    "    MAX_WEIGHT = 5 \n",
    "    MAX_SIZE = 6\n",
    "    items = []\n",
    "    "
   ]
  },
  {
   "cell_type": "code",
   "execution_count": 9,
   "metadata": {},
   "outputs": [
    {
     "name": "stdout",
     "output_type": "stream",
     "text": [
      "5\n"
     ]
    }
   ],
   "source": [
    "#we instanciate a new object using the Bag class\n",
    "my_bag = Bag()\n",
    "print(my_bag.MAX_WEIGHT)"
   ]
  },
  {
   "cell_type": "code",
   "execution_count": 10,
   "metadata": {},
   "outputs": [],
   "source": [
    "#my_bag.items.append(\"cloths\")\n",
    "#my_bag.items.append(\"shoes\")"
   ]
  },
  {
   "cell_type": "code",
   "execution_count": 11,
   "metadata": {},
   "outputs": [],
   "source": [
    "#print(my_bag.items)"
   ]
  },
  {
   "cell_type": "code",
   "execution_count": 12,
   "metadata": {},
   "outputs": [],
   "source": [
    "class Trip_Item: #initialize = get ready a value for the first time\n",
    "    # instantiate = to create (e.g an object )\n",
    "      def __init__(self, name, weight,size):\n",
    "        self.name = name \n",
    "        self.weight = weight\n",
    "        self.size = size #we assign the value of size to self size   \n",
    "        \n",
    "        "
   ]
  },
  {
   "cell_type": "code",
   "execution_count": 13,
   "metadata": {},
   "outputs": [
    {
     "name": "stdout",
     "output_type": "stream",
     "text": [
      "Laptop\n",
      "5\n",
      "0.5\n"
     ]
    }
   ],
   "source": [
    "trip_item_1 = Trip_Item(\"Laptop\",5, 0.5)\n",
    "print(trip_item_1.name)\n",
    "print(trip_item_1.weight)\n",
    "print(trip_item_1.size)\n"
   ]
  },
  {
   "cell_type": "code",
   "execution_count": 14,
   "metadata": {},
   "outputs": [
    {
     "name": "stdout",
     "output_type": "stream",
     "text": [
      "Charger\n",
      "8\n",
      "13\n"
     ]
    }
   ],
   "source": [
    "trip_item_2 = Trip_Item(\"Charger\", 8, 13)\n",
    "print(trip_item_2.name)\n",
    "print(trip_item_2.weight)\n",
    "print(trip_item_2.size)"
   ]
  },
  {
   "cell_type": "code",
   "execution_count": 15,
   "metadata": {},
   "outputs": [
    {
     "name": "stdout",
     "output_type": "stream",
     "text": [
      "shoes\n",
      "2\n",
      "1\n"
     ]
    }
   ],
   "source": [
    "trip_item_3 = Trip_Item(\"shoes\", 2, 1)\n",
    "print(trip_item_3.name)\n",
    "print(trip_item_3.weight)\n",
    "print(trip_item_3.size)"
   ]
  },
  {
   "cell_type": "code",
   "execution_count": 16,
   "metadata": {},
   "outputs": [],
   "source": [
    "trip_items = [trip_item_1, trip_item_2, trip_item_3]"
   ]
  },
  {
   "cell_type": "code",
   "execution_count": 20,
   "metadata": {},
   "outputs": [],
   "source": [
    "for item in trip_items:\n",
    "    my_bag.items.items.append(item)"
   ]
  },
  {
   "cell_type": "code",
   "execution_count": null,
   "metadata": {
    "collapsed": true
   },
   "outputs": [],
   "source": [
    "for the "
   ]
  },
  {
   "cell_type": "code",
   "execution_count": 21,
   "metadata": {},
   "outputs": [
    {
     "name": "stdout",
     "output_type": "stream",
     "text": [
      "[<__main__.Trip_Item object at 0x0000027D1970C978>, <__main__.Trip_Item object at 0x0000027D1970C7B8>, <__main__.Trip_Item object at 0x0000027D1970C6D8>]\n"
     ]
    }
   ],
   "source": [
    "print(my_bag.items)"
   ]
  },
  {
   "cell_type": "code",
   "execution_count": null,
   "metadata": {
    "collapsed": true
   },
   "outputs": [],
   "source": []
  }
 ],
 "metadata": {
  "kernelspec": {
   "display_name": "Python 3",
   "language": "python",
   "name": "python3"
  },
  "language_info": {
   "codemirror_mode": {
    "name": "ipython",
    "version": 3
   },
   "file_extension": ".py",
   "mimetype": "text/x-python",
   "name": "python",
   "nbconvert_exporter": "python",
   "pygments_lexer": "ipython3",
   "version": "3.6.3"
  }
 },
 "nbformat": 4,
 "nbformat_minor": 2
}
